{
 "cells": [
  {
   "cell_type": "code",
   "execution_count": 1,
   "id": "0dd11b45",
   "metadata": {},
   "outputs": [],
   "source": [
    "import pandas as pd\n",
    "import matplotlib.pyplot as plt\n",
    "import plotly.express as px"
   ]
  },
  {
   "cell_type": "code",
   "execution_count": 2,
   "id": "d4e9060f",
   "metadata": {},
   "outputs": [
    {
     "name": "stdout",
     "output_type": "stream",
     "text": [
      "\u001b[1m\n",
      "3 Years’ worth of customer orders: \u001b[0m\n"
     ]
    },
    {
     "data": {
      "text/html": [
       "<div>\n",
       "<style scoped>\n",
       "    .dataframe tbody tr th:only-of-type {\n",
       "        vertical-align: middle;\n",
       "    }\n",
       "\n",
       "    .dataframe tbody tr th {\n",
       "        vertical-align: top;\n",
       "    }\n",
       "\n",
       "    .dataframe thead th {\n",
       "        text-align: right;\n",
       "    }\n",
       "</style>\n",
       "<table border=\"1\" class=\"dataframe\">\n",
       "  <thead>\n",
       "    <tr style=\"text-align: right;\">\n",
       "      <th></th>\n",
       "      <th>Index</th>\n",
       "      <th>customer_email</th>\n",
       "      <th>net_revenue</th>\n",
       "      <th>year</th>\n",
       "    </tr>\n",
       "  </thead>\n",
       "  <tbody>\n",
       "    <tr>\n",
       "      <th>0</th>\n",
       "      <td>0</td>\n",
       "      <td>nhknapwsbx@gmail.com</td>\n",
       "      <td>249.92</td>\n",
       "      <td>2015</td>\n",
       "    </tr>\n",
       "    <tr>\n",
       "      <th>1</th>\n",
       "      <td>1</td>\n",
       "      <td>joiuzbvcpn@gmail.com</td>\n",
       "      <td>87.61</td>\n",
       "      <td>2015</td>\n",
       "    </tr>\n",
       "    <tr>\n",
       "      <th>2</th>\n",
       "      <td>2</td>\n",
       "      <td>ukkjctepxt@gmail.com</td>\n",
       "      <td>168.38</td>\n",
       "      <td>2015</td>\n",
       "    </tr>\n",
       "    <tr>\n",
       "      <th>3</th>\n",
       "      <td>3</td>\n",
       "      <td>gykatilzrt@gmail.com</td>\n",
       "      <td>62.40</td>\n",
       "      <td>2015</td>\n",
       "    </tr>\n",
       "    <tr>\n",
       "      <th>4</th>\n",
       "      <td>4</td>\n",
       "      <td>mmsgsrtxah@gmail.com</td>\n",
       "      <td>43.08</td>\n",
       "      <td>2015</td>\n",
       "    </tr>\n",
       "  </tbody>\n",
       "</table>\n",
       "</div>"
      ],
      "text/plain": [
       "   Index         customer_email  net_revenue  year\n",
       "0      0   nhknapwsbx@gmail.com       249.92  2015\n",
       "1      1   joiuzbvcpn@gmail.com        87.61  2015\n",
       "2      2   ukkjctepxt@gmail.com       168.38  2015\n",
       "3      3   gykatilzrt@gmail.com        62.40  2015\n",
       "4      4   mmsgsrtxah@gmail.com        43.08  2015"
      ]
     },
     "execution_count": 2,
     "metadata": {},
     "output_type": "execute_result"
    }
   ],
   "source": [
    "df = pd.read_csv(\"casestudy.csv\")\n",
    "df = df.rename(columns={\"Unnamed: 0\": \"Index\"})\n",
    "print('\\033[1m' + '\\n3 Years’ worth of customer orders: ' + '\\033[0m')\n",
    "df.head()"
   ]
  },
  {
   "cell_type": "code",
   "execution_count": 3,
   "id": "bc360c28",
   "metadata": {},
   "outputs": [
    {
     "name": "stdout",
     "output_type": "stream",
     "text": [
      "\u001b[1m\n",
      "Total revenue for each year: \u001b[0m\n"
     ]
    },
    {
     "data": {
      "text/html": [
       "<div>\n",
       "<style scoped>\n",
       "    .dataframe tbody tr th:only-of-type {\n",
       "        vertical-align: middle;\n",
       "    }\n",
       "\n",
       "    .dataframe tbody tr th {\n",
       "        vertical-align: top;\n",
       "    }\n",
       "\n",
       "    .dataframe thead th {\n",
       "        text-align: right;\n",
       "    }\n",
       "</style>\n",
       "<table border=\"1\" class=\"dataframe\">\n",
       "  <thead>\n",
       "    <tr style=\"text-align: right;\">\n",
       "      <th></th>\n",
       "      <th>net_revenue</th>\n",
       "    </tr>\n",
       "    <tr>\n",
       "      <th>year</th>\n",
       "      <th></th>\n",
       "    </tr>\n",
       "  </thead>\n",
       "  <tbody>\n",
       "    <tr>\n",
       "      <th>2015</th>\n",
       "      <td>29036749.19</td>\n",
       "    </tr>\n",
       "    <tr>\n",
       "      <th>2016</th>\n",
       "      <td>25730943.59</td>\n",
       "    </tr>\n",
       "    <tr>\n",
       "      <th>2017</th>\n",
       "      <td>31417495.03</td>\n",
       "    </tr>\n",
       "  </tbody>\n",
       "</table>\n",
       "</div>"
      ],
      "text/plain": [
       "      net_revenue\n",
       "year             \n",
       "2015  29036749.19\n",
       "2016  25730943.59\n",
       "2017  31417495.03"
      ]
     },
     "execution_count": 3,
     "metadata": {},
     "output_type": "execute_result"
    }
   ],
   "source": [
    "#Total revenue for the current year\n",
    "Total_rev_per_year = pd.DataFrame(df.groupby(\"year\").sum(\"net_revenue\").iloc[:3,-1])\n",
    "print('\\033[1m' + '\\nTotal revenue for each year: ' + '\\033[0m')\n",
    "Total_rev_per_year.head()"
   ]
  },
  {
   "cell_type": "code",
   "execution_count": 4,
   "id": "52a8e7e0",
   "metadata": {},
   "outputs": [
    {
     "name": "stdout",
     "output_type": "stream",
     "text": [
      "\u001b[1mTotal Customers - Year Wise: \u001b[0m\n",
      "\t2015 :  231294\n",
      "\t2016 :  204646\n",
      "\t2017 :  249987\n",
      "\u001b[1m\n",
      "New Customer Revenue: \u001b[0m\n",
      "Number of New Customers joined in 2016 :  145062\n",
      "Number of New Customers joined in 2017 :  229028\n",
      "\u001b[1m\n",
      "Existing Customer Growth: \u001b[0m\n"
     ]
    },
    {
     "data": {
      "text/html": [
       "<div>\n",
       "<style scoped>\n",
       "    .dataframe tbody tr th:only-of-type {\n",
       "        vertical-align: middle;\n",
       "    }\n",
       "\n",
       "    .dataframe tbody tr th {\n",
       "        vertical-align: top;\n",
       "    }\n",
       "\n",
       "    .dataframe thead th {\n",
       "        text-align: right;\n",
       "    }\n",
       "</style>\n",
       "<table border=\"1\" class=\"dataframe\">\n",
       "  <thead>\n",
       "    <tr style=\"text-align: right;\">\n",
       "      <th></th>\n",
       "      <th>customer_email</th>\n",
       "      <th>revenue_change_2016</th>\n",
       "      <th>revenue_change_2017</th>\n",
       "    </tr>\n",
       "  </thead>\n",
       "  <tbody>\n",
       "    <tr>\n",
       "      <th>0</th>\n",
       "      <td>hxshgpdxtr@gmail.com</td>\n",
       "      <td>36.76</td>\n",
       "      <td>-39.25</td>\n",
       "    </tr>\n",
       "    <tr>\n",
       "      <th>1</th>\n",
       "      <td>gipqsrvngd@gmail.com</td>\n",
       "      <td>33.35</td>\n",
       "      <td>16.84</td>\n",
       "    </tr>\n",
       "    <tr>\n",
       "      <th>2</th>\n",
       "      <td>akwxtbjuki@gmail.com</td>\n",
       "      <td>-133.52</td>\n",
       "      <td>-104.49</td>\n",
       "    </tr>\n",
       "    <tr>\n",
       "      <th>3</th>\n",
       "      <td>tcxbzksocq@gmail.com</td>\n",
       "      <td>82.34</td>\n",
       "      <td>-35.52</td>\n",
       "    </tr>\n",
       "    <tr>\n",
       "      <th>4</th>\n",
       "      <td>nfyvvsbdpy@gmail.com</td>\n",
       "      <td>35.55</td>\n",
       "      <td>-13.81</td>\n",
       "    </tr>\n",
       "  </tbody>\n",
       "</table>\n",
       "</div>"
      ],
      "text/plain": [
       "         customer_email  revenue_change_2016  revenue_change_2017\n",
       "0  hxshgpdxtr@gmail.com                36.76               -39.25\n",
       "1  gipqsrvngd@gmail.com                33.35                16.84\n",
       "2  akwxtbjuki@gmail.com              -133.52              -104.49\n",
       "3  tcxbzksocq@gmail.com                82.34               -35.52\n",
       "4  nfyvvsbdpy@gmail.com                35.55               -13.81"
      ]
     },
     "execution_count": 4,
     "metadata": {},
     "output_type": "execute_result"
    }
   ],
   "source": [
    "print('\\033[1m' + 'Total Customers - Year Wise: ' + '\\033[0m')\n",
    "\n",
    "df_2015 = df[df[\"year\"]==2015]\n",
    "df_2016 = df[df[\"year\"]==2016]\n",
    "df_2017 = df[df[\"year\"]==2017]\n",
    "\n",
    "print(\"\\t2015 : \",df_2015.shape[0])\n",
    "print(\"\\t2016 : \",df_2016.shape[0])\n",
    "print(\"\\t2017 : \",df_2017.shape[0])\n",
    "\n",
    "print('\\033[1m' + '\\nNew Customer Revenue: ' + '\\033[0m')\n",
    "\n",
    "new_2015_2016 = df_2016[~df_2016['customer_email'].isin(list(df_2015[\"customer_email\"]))]\n",
    "new_2016_2017 = df_2017[~df_2017['customer_email'].isin(list(df_2016[\"customer_email\"]))]\n",
    "print(\"Number of New Customers joined in 2016 : \",new_2015_2016.shape[0])\n",
    "print(\"Number of New Customers joined in 2017 : \",new_2016_2017.shape[0])\n",
    "\n",
    "just_old_2015_2016 = df_2015[df_2015['customer_email'].isin(list(df_2016[\"customer_email\"]))]\n",
    "just_old_2016_2017 = df_2016[df_2016['customer_email'].isin(list(df_2017[\"customer_email\"]))]\n",
    "#print(\"just_old_2015_2016:\",just_old_2015_2016.shape)\n",
    "#print(\"just_old_2016_2017:\",just_old_2016_2017.shape)\n",
    "\n",
    "#Existing Customer Growth\n",
    "print('\\033[1m' + '\\nExisting Customer Growth: ' + '\\033[0m')\n",
    "\n",
    "join_15_16 = just_old_2015_2016.merge(df_2016,on=\"customer_email\",suffixes=('_2015', '_2016'))\n",
    "join_15_16_17 = join_15_16.merge(df_2017,on=\"customer_email\",suffixes=('','_2017'))\n",
    "\n",
    "join_15_16_17[\"revenue_change_2016\"] = join_15_16_17[\"net_revenue_2016\"] - join_15_16_17[\"net_revenue_2015\"]\n",
    "join_15_16_17[\"revenue_change_2017\"] = join_15_16_17[\"net_revenue\"] - join_15_16_17[\"net_revenue_2016\"]\n",
    "join_15_16_17[[\"customer_email\",\"revenue_change_2016\",\"revenue_change_2017\"]].head()"
   ]
  },
  {
   "cell_type": "code",
   "execution_count": 5,
   "id": "71bb5db6",
   "metadata": {},
   "outputs": [
    {
     "name": "stdout",
     "output_type": "stream",
     "text": [
      "\u001b[1m\n",
      "Graph of Existing Customer Growth: \u001b[0m\n"
     ]
    },
    {
     "data": {
      "image/png": "[encoded data removed]",
      "text/plain": [
       "<Figure size 1800x360 with 1 Axes>"
      ]
     },
     "metadata": {
      "needs_background": "light"
     },
     "output_type": "display_data"
    }
   ],
   "source": [
    "revenue_change_2015_2016 = join_15_16_17.groupby(join_15_16_17[\"customer_email\"])[\"revenue_change_2016\"].agg([('negative_2016' , lambda x : x[x < 0].sum()) , ('positive_2016' , lambda x : x[x > 0].sum())])\n",
    "revenue_change_2016_2017 = join_15_16_17.groupby(join_15_16_17[\"customer_email\"])[\"revenue_change_2017\"].agg([('negative_2017' , lambda x : x[x < 0].sum()) , ('positive_2017' , lambda x : x[x > 0].sum())])\n",
    "\n",
    "print('\\033[1m' + '\\nGraph of Existing Customer Growth: ' + '\\033[0m')\n",
    "\n",
    "plt.figure(figsize=(25,5))\n",
    "plt.bar('Increase from 2015 to 2016',revenue_change_2015_2016.positive_2016.sum(),width=0.2,color=\"green\")\n",
    "plt.bar('Decrease from 2015 to 2016',revenue_change_2015_2016.negative_2016.sum()*-1,width=0.2,color=\"red\")\n",
    "plt.bar('Increase from 2016 to 2017',revenue_change_2016_2017.positive_2017.sum(),width=0.2,color=\"green\")\n",
    "plt.bar('Decrease from 2016 to 2017',revenue_change_2016_2017.negative_2017.sum()*-1,width=0.2,color=\"red\")\n",
    "plt.xticks(rotation=20)\n",
    "plt.show()"
   ]
  },
  {
   "cell_type": "code",
   "execution_count": 6,
   "id": "c031c5be",
   "metadata": {},
   "outputs": [
    {
     "name": "stdout",
     "output_type": "stream",
     "text": [
      "\u001b[1m\n",
      "Revenue lost from attrition: \u001b[0m\n",
      "Revenue lost from attrition from 2015 to 2016: $ 21571632.070000004\n",
      "Revenue lost from attrition from 2016 to 2017: $ 23110294.939999998\n"
     ]
    }
   ],
   "source": [
    "#Lost Customers\n",
    "lost_2015_2016 = df_2015[~df_2015['customer_email'].isin(list(df_2016[\"customer_email\"]))]\n",
    "lost_2016_2017 = df_2016[~df_2016['customer_email'].isin(list(df_2017[\"customer_email\"]))]\n",
    "\n",
    "print('\\033[1m' + '\\nRevenue lost from attrition: ' + '\\033[0m')\n",
    "\n",
    "print(\"Revenue lost from attrition from 2015 to 2016: $\",lost_2015_2016.net_revenue.sum())\n",
    "print(\"Revenue lost from attrition from 2016 to 2017: $\",lost_2016_2017.net_revenue.sum())"
   ]
  },
  {
   "cell_type": "code",
   "execution_count": 12,
   "id": "e49b3f35",
   "metadata": {},
   "outputs": [
    {
     "name": "stdout",
     "output_type": "stream",
     "text": [
      "\u001b[1m\n",
      "Existing customers' revenue for Current and Prior year: \u001b[0m\n"
     ]
    },
    {
     "data": {
      "text/html": [
       "<div>\n",
       "<style scoped>\n",
       "    .dataframe tbody tr th:only-of-type {\n",
       "        vertical-align: middle;\n",
       "    }\n",
       "\n",
       "    .dataframe tbody tr th {\n",
       "        vertical-align: top;\n",
       "    }\n",
       "\n",
       "    .dataframe thead th {\n",
       "        text-align: right;\n",
       "    }\n",
       "</style>\n",
       "<table border=\"1\" class=\"dataframe\">\n",
       "  <thead>\n",
       "    <tr style=\"text-align: right;\">\n",
       "      <th></th>\n",
       "      <th>customer_email</th>\n",
       "      <th>net_revenue_2015</th>\n",
       "      <th>net_revenue_2016</th>\n",
       "      <th>net_revenue_2017</th>\n",
       "    </tr>\n",
       "  </thead>\n",
       "  <tbody>\n",
       "    <tr>\n",
       "      <th>0</th>\n",
       "      <td>hxshgpdxtr@gmail.com</td>\n",
       "      <td>180.59</td>\n",
       "      <td>217.35</td>\n",
       "      <td>178.10</td>\n",
       "    </tr>\n",
       "    <tr>\n",
       "      <th>1</th>\n",
       "      <td>gipqsrvngd@gmail.com</td>\n",
       "      <td>122.71</td>\n",
       "      <td>156.06</td>\n",
       "      <td>172.90</td>\n",
       "    </tr>\n",
       "    <tr>\n",
       "      <th>2</th>\n",
       "      <td>akwxtbjuki@gmail.com</td>\n",
       "      <td>246.79</td>\n",
       "      <td>113.27</td>\n",
       "      <td>8.78</td>\n",
       "    </tr>\n",
       "    <tr>\n",
       "      <th>3</th>\n",
       "      <td>tcxbzksocq@gmail.com</td>\n",
       "      <td>79.72</td>\n",
       "      <td>162.06</td>\n",
       "      <td>126.54</td>\n",
       "    </tr>\n",
       "    <tr>\n",
       "      <th>4</th>\n",
       "      <td>nfyvvsbdpy@gmail.com</td>\n",
       "      <td>187.65</td>\n",
       "      <td>223.20</td>\n",
       "      <td>209.39</td>\n",
       "    </tr>\n",
       "    <tr>\n",
       "      <th>5</th>\n",
       "      <td>xyepkoqbfk@gmail.com</td>\n",
       "      <td>125.37</td>\n",
       "      <td>192.89</td>\n",
       "      <td>38.74</td>\n",
       "    </tr>\n",
       "    <tr>\n",
       "      <th>6</th>\n",
       "      <td>hintjfrhht@gmail.com</td>\n",
       "      <td>84.41</td>\n",
       "      <td>216.46</td>\n",
       "      <td>28.45</td>\n",
       "    </tr>\n",
       "    <tr>\n",
       "      <th>7</th>\n",
       "      <td>vvqujrajxr@gmail.com</td>\n",
       "      <td>212.66</td>\n",
       "      <td>233.94</td>\n",
       "      <td>22.01</td>\n",
       "    </tr>\n",
       "    <tr>\n",
       "      <th>8</th>\n",
       "      <td>tmszhbybvl@gmail.com</td>\n",
       "      <td>120.67</td>\n",
       "      <td>17.84</td>\n",
       "      <td>115.21</td>\n",
       "    </tr>\n",
       "    <tr>\n",
       "      <th>9</th>\n",
       "      <td>dpaqajhzae@gmail.com</td>\n",
       "      <td>137.47</td>\n",
       "      <td>170.18</td>\n",
       "      <td>115.62</td>\n",
       "    </tr>\n",
       "  </tbody>\n",
       "</table>\n",
       "</div>"
      ],
      "text/plain": [
       "         customer_email  net_revenue_2015  net_revenue_2016  net_revenue_2017\n",
       "0  hxshgpdxtr@gmail.com            180.59            217.35            178.10\n",
       "1  gipqsrvngd@gmail.com            122.71            156.06            172.90\n",
       "2  akwxtbjuki@gmail.com            246.79            113.27              8.78\n",
       "3  tcxbzksocq@gmail.com             79.72            162.06            126.54\n",
       "4  nfyvvsbdpy@gmail.com            187.65            223.20            209.39\n",
       "5  xyepkoqbfk@gmail.com            125.37            192.89             38.74\n",
       "6  hintjfrhht@gmail.com             84.41            216.46             28.45\n",
       "7  vvqujrajxr@gmail.com            212.66            233.94             22.01\n",
       "8  tmszhbybvl@gmail.com            120.67             17.84            115.21\n",
       "9  dpaqajhzae@gmail.com            137.47            170.18            115.62"
      ]
     },
     "execution_count": 12,
     "metadata": {},
     "output_type": "execute_result"
    }
   ],
   "source": [
    "print('\\033[1m' + \"\\nExisting customers' revenue for Current and Prior year: \" + '\\033[0m')\n",
    "\n",
    "existing_customers = df_2015.merge(df_2016,on=\"customer_email\",suffixes=('_2015', '_2016')).merge(df_2017,on=\"customer_email\").rename(columns={\"Index\": \"Index_2017\",\"net_revenue\": \"net_revenue_2017\",\"year\": \"year_2017\"})\n",
    "existing_customers.drop(['Index_2015','Index_2016','Index_2017','year_2015','year_2016','year_2017'],axis=1).head(10)"
   ]
  },
  {
   "cell_type": "code",
   "execution_count": 13,
   "id": "8385b906",
   "metadata": {},
   "outputs": [
    {
     "name": "stdout",
     "output_type": "stream",
     "text": [
      "\u001b[1m\n",
      "Total Number of customers in the Current and Prior year: \n",
      "\u001b[0m\n",
      "Total Number of Customers in 2015:  231294\n",
      "Total Number of Customers in 2016:  204646\n",
      "Total Number of Customers in 2017:  249987\n"
     ]
    }
   ],
   "source": [
    "print('\\033[1m' + '\\nTotal Number of customers in the Current and Prior year: \\n' + '\\033[0m')\n",
    "print(\"Total Number of Customers in 2015: \",df_2015.customer_email.shape[0])\n",
    "print(\"Total Number of Customers in 2016: \",df_2016.customer_email.shape[0])\n",
    "print(\"Total Number of Customers in 2017: \",df_2017.customer_email.shape[0])"
   ]
  },
  {
   "cell_type": "code",
   "execution_count": 9,
   "id": "83007ccd",
   "metadata": {},
   "outputs": [
    {
     "data": {
      "text/html": [
       "<div>\n",
       "<style scoped>\n",
       "    .dataframe tbody tr th:only-of-type {\n",
       "        vertical-align: middle;\n",
       "    }\n",
       "\n",
       "    .dataframe tbody tr th {\n",
       "        vertical-align: top;\n",
       "    }\n",
       "\n",
       "    .dataframe thead th {\n",
       "        text-align: right;\n",
       "    }\n",
       "</style>\n",
       "<table border=\"1\" class=\"dataframe\">\n",
       "  <thead>\n",
       "    <tr style=\"text-align: right;\">\n",
       "      <th></th>\n",
       "      <th>Label</th>\n",
       "      <th>From_2015_to_2016</th>\n",
       "      <th>From_2016_to_2017</th>\n",
       "    </tr>\n",
       "  </thead>\n",
       "  <tbody>\n",
       "    <tr>\n",
       "      <th>0</th>\n",
       "      <td>New Customers</td>\n",
       "      <td>145062</td>\n",
       "      <td>229028</td>\n",
       "    </tr>\n",
       "    <tr>\n",
       "      <th>1</th>\n",
       "      <td>Lost Customers</td>\n",
       "      <td>171710</td>\n",
       "      <td>183687</td>\n",
       "    </tr>\n",
       "  </tbody>\n",
       "</table>\n",
       "</div>"
      ],
      "text/plain": [
       "            Label  From_2015_to_2016  From_2016_to_2017\n",
       "0   New Customers             145062             229028\n",
       "1  Lost Customers             171710             183687"
      ]
     },
     "execution_count": 9,
     "metadata": {},
     "output_type": "execute_result"
    }
   ],
   "source": [
    "count_df = pd.DataFrame()\n",
    "\n",
    "count_df['Label'] = ['New Customers','Lost Customers']\n",
    "count_df['From_2015_to_2016'] = [new_2015_2016.customer_email.shape[0:][0],lost_2015_2016.customer_email.shape[0:][0]]\n",
    "count_df['From_2016_to_2017'] = [new_2016_2017.customer_email.shape[0:][0],lost_2016_2017.customer_email.shape[0:][0]]\n",
    "\n",
    "count_df.head()"
   ]
  },
  {
   "cell_type": "code",
   "execution_count": 15,
   "id": "520a8167",
   "metadata": {},
   "outputs": [
    {
     "data": {
      "text/plain": [
       "<matplotlib.legend.Legend at 0x21152128250>"
      ]
     },
     "execution_count": 15,
     "metadata": {},
     "output_type": "execute_result"
    },
    {
     "data": {
      "image/png": "[encoded data removed]",
      "text/plain": [
       "<Figure size 720x720 with 2 Axes>"
      ]
     },
     "metadata": {},
     "output_type": "display_data"
    }
   ],
   "source": [
    "fig, (px1,px2) = plt.subplots(1,2,figsize=(10,10))\n",
    "px1.pie(count_df.From_2015_to_2016,colors=[\"Orange\",\"Blue\"],autopct = '%1.1f%%',explode=[0.05,0.05])\n",
    "px1.set_title('New versus Lost Customers from 2015 to 2016')\n",
    "px2.pie(count_df.From_2016_to_2017,colors=[\"Orange\",\"Blue\"],autopct = '%1.1f%%',explode=[0.05,0.05])\n",
    "px2.set_title('New versus Lost Customers from 2016 to 2017')\n",
    "px2.legend([\"New\",\"Lost\"],loc=(1.2,0.2))"
   ]
  },
  {
   "cell_type": "code",
   "execution_count": 16,
   "id": "446e4f06",
   "metadata": {},
   "outputs": [
    {
     "name": "stdout",
     "output_type": "stream",
     "text": [
      "This shows that the there were comparitively lesser new customers in 2016 compared to 2017.\n"
     ]
    }
   ],
   "source": [
    "print(\"This shows that the there were comparitively lesser new customers in 2016 compared to 2017.\")"
   ]
  }
 ],
 "metadata": {
  "kernelspec": {
   "display_name": "Python 3",
   "language": "python",
   "name": "python3"
  },
  "language_info": {
   "codemirror_mode": {
    "name": "ipython",
    "version": 3
   },
   "file_extension": ".py",
   "mimetype": "text/x-python",
   "name": "python",
   "nbconvert_exporter": "python",
   "pygments_lexer": "ipython3",
   "version": "3.8.8"
  }
 },
 "nbformat": 4,
 "nbformat_minor": 5
}
